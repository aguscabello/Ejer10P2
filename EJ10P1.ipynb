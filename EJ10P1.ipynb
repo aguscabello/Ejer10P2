{
 "cells": [
  {
   "cell_type": "markdown",
   "metadata": {},
   "source": [
    "### Ejercicio a entregar"
   ]
  },
  {
   "cell_type": "markdown",
   "metadata": {},
   "source": [
    "Lo primero que se hizo fue abrir los archivos correspondientes de notas y nombres utilizando el encode \"UTF-8\" para una buena legebilidad del programa {sin el encode da error por las tildes}"
   ]
  },
  {
   "cell_type": "code",
   "execution_count": 1,
   "metadata": {},
   "outputs": [],
   "source": [
    "arch_notas1 = open('eval1.txt' , mode=\"r\" , encoding=\"UTF-8\")\n",
    "arch_notas2 = open('eval2.txt', mode=\"r\" , encoding=\"UTF-8\")\n",
    "arc_nombres = open('nombres_1.txt', mode=\"r\" , encoding=\"UTF-8\")\n"
   ]
  },
  {
   "cell_type": "markdown",
   "metadata": {},
   "source": [
    "A los archivos se les asignó una variable a cada uno con la que se separaron por \",\" exceptuando los nombres que se quitó el \\n usando .replace"
   ]
  },
  {
   "cell_type": "markdown",
   "metadata": {},
   "source": []
  },
  {
   "cell_type": "code",
   "execution_count": 2,
   "metadata": {},
   "outputs": [],
   "source": [
    "notas1 = arch_notas1.read().split(\",\")\n",
    "notas2 = arch_notas2.read().split(\",\")\n",
    "nombres = arc_nombres.read().replace(\" \", \"\").split()"
   ]
  },
  {
   "cell_type": "markdown",
   "metadata": {},
   "source": []
  },
  {
   "cell_type": "markdown",
   "metadata": {},
   "source": [
    "Se creo una lista vacia en la que almacenar la informacion y se inicializo en 0 la variable para calcular el promedio"
   ]
  },
  {
   "cell_type": "code",
   "execution_count": null,
   "metadata": {},
   "outputs": [],
   "source": [
    "alumnos = []\n",
    "nota_total= 0"
   ]
  },
  {
   "cell_type": "markdown",
   "metadata": {},
   "source": [
    "Despues hacemos un for utilizando la funcion zip sobre los archivos, para recorrer multiples iterables a la vez y con la informacion de los archivos creamos un diccionario para el alumno, que despues volcamos en la lista alumnos y vamos sumando el total de notas para calcular el promedio despues."
   ]
  },
  {
   "cell_type": "code",
   "execution_count": null,
   "metadata": {},
   "outputs": [],
   "source": [
    "for nombre, nota1 , nota2 in zip(nombres,notas1, notas2):\n",
    "    alumno = {\"nombre\":nombre , \"nota\": (int (nota1) + int (nota2))}\n",
    "    alumnos.append(alumno)\n",
    "    nota_total += alumno[\"nota\"]"
   ]
  },
  {
   "cell_type": "markdown",
   "metadata": {},
   "source": [
    "Calculamos el promedio y lo guardamos como un numero redondo gracias a la funcion round"
   ]
  },
  {
   "cell_type": "code",
   "execution_count": null,
   "metadata": {},
   "outputs": [],
   "source": [
    "promedio = nota_total / len(nombres)\n",
    "promedio = round(promedio , 1)"
   ]
  },
  {
   "cell_type": "markdown",
   "metadata": {},
   "source": [
    "Recorremos la estructura e imprimimos los alumnos debajo del promedio"
   ]
  },
  {
   "cell_type": "code",
   "execution_count": null,
   "metadata": {},
   "outputs": [],
   "source": [
    "for alumno in alumnos:\n",
    "    if (alumno[\"nota\"] < promedio):\n",
    "        print(alumno)"
   ]
  },
  {
   "cell_type": "markdown",
   "metadata": {},
   "source": [
    "Cerramos los archivos txt"
   ]
  },
  {
   "cell_type": "code",
   "execution_count": null,
   "metadata": {},
   "outputs": [],
   "source": [
    "arch_notas1.close()\n",
    "arc_nombres.close()\n",
    "arch_notas2.close()"
   ]
  },
  {
   "cell_type": "markdown",
   "metadata": {},
   "source": [
    "Opcionalmente imprimimos la lista original con todos los alumnos"
   ]
  },
  {
   "cell_type": "code",
   "execution_count": null,
   "metadata": {},
   "outputs": [],
   "source": [
    "for alumno in alumnos: \n",
    "    print(alumno)\n",
    "    print(\"-\"*10)"
   ]
  }
 ],
 "metadata": {
  "interpreter": {
   "hash": "03d7f20dd4fe557f5fa99399c0e25bf6a55fa884f5c7f5b34f1ffc4443eb7a1e"
  },
  "kernelspec": {
   "display_name": "Python 3.10.0 64-bit",
   "language": "python",
   "name": "python3"
  },
  "language_info": {
   "codemirror_mode": {
    "name": "ipython",
    "version": 3
   },
   "file_extension": ".py",
   "mimetype": "text/x-python",
   "name": "python",
   "nbconvert_exporter": "python",
   "pygments_lexer": "ipython3",
   "version": "3.10.0"
  },
  "orig_nbformat": 4
 },
 "nbformat": 4,
 "nbformat_minor": 2
}
